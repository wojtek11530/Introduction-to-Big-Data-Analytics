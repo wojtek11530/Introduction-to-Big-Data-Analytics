{
 "cells": [
  {
   "cell_type": "markdown",
   "metadata": {},
   "source": [
    "# Introduction to Big Data Analytics - List 5\n",
    "### _Wojciech Korczyński, 229949_\n"
   ]
  },
  {
   "cell_type": "code",
   "execution_count": 1,
   "metadata": {},
   "outputs": [
    {
     "name": "stderr",
     "output_type": "stream",
     "text": [
      "C:\\Users\\wojte\\Anaconda3\\lib\\site-packages\\statsmodels\\tools\\_testing.py:19: FutureWarning: pandas.util.testing is deprecated. Use the functions in the public API at pandas.testing instead.\n",
      "  import pandas.util.testing as tm\n"
     ]
    }
   ],
   "source": [
    "# importing libraries\n",
    "from IPython import display\n",
    "import matplotlib.pyplot as plt\n",
    "import seaborn as sns\n",
    "import pandas as pd\n",
    "\n",
    "%matplotlib inline\n",
    "\n",
    "import findspark\n",
    "findspark.init()\n",
    "from pyspark.sql import SparkSession\n",
    "from pyspark.ml.feature import OneHotEncoderEstimator, StringIndexer, VectorAssembler, ChiSqSelector\n",
    "from pyspark.ml import Pipeline\n",
    "import pyspark.sql.functions as f\n",
    "from pyspark.ml.classification import LogisticRegression, DecisionTreeClassifier,\\\n",
    "    RandomForestClassifier, GBTClassifier, NaiveBayes\n",
    "from pyspark.ml.evaluation import BinaryClassificationEvaluator\n",
    "from pyspark.ml.tuning import ParamGridBuilder, CrossValidator\n",
    "\n",
    "from sklearn.metrics import classification_report, confusion_matrix"
   ]
  },
  {
   "cell_type": "code",
   "execution_count": 2,
   "metadata": {},
   "outputs": [],
   "source": [
    "# Creating the Spark Session\n",
    "spark = SparkSession.builder.appName(\"ML_bank_marketing\").getOrCreate()"
   ]
  },
  {
   "cell_type": "markdown",
   "metadata": {},
   "source": [
    "## Data loading\n",
    "\n",
    "We load data from `.csv` file."
   ]
  },
  {
   "cell_type": "code",
   "execution_count": 3,
   "metadata": {},
   "outputs": [],
   "source": [
    "bankdata = spark.read.csv(path='bank.csv',\n",
    "                         sep=',',\n",
    "                         encoding='UTF-8',\n",
    "                         comment=None,\n",
    "                         header=True,\n",
    "                         inferSchema=True)"
   ]
  },
  {
   "cell_type": "code",
   "execution_count": 4,
   "metadata": {},
   "outputs": [
    {
     "name": "stdout",
     "output_type": "stream",
     "text": [
      "+---+----------+-------+---------+-------+-------+-------+----+-------+---+-----+--------+--------+-----+--------+--------+-------+\n",
      "|age|job       |marital|education|default|balance|housing|loan|contact|day|month|duration|campaign|pdays|previous|poutcome|deposit|\n",
      "+---+----------+-------+---------+-------+-------+-------+----+-------+---+-----+--------+--------+-----+--------+--------+-------+\n",
      "|59 |admin.    |married|secondary|no     |2343   |yes    |no  |unknown|5  |may  |1042    |1       |-1   |0       |unknown |yes    |\n",
      "|56 |admin.    |married|secondary|no     |45     |no     |no  |unknown|5  |may  |1467    |1       |-1   |0       |unknown |yes    |\n",
      "|41 |technician|married|secondary|no     |1270   |yes    |no  |unknown|5  |may  |1389    |1       |-1   |0       |unknown |yes    |\n",
      "|55 |services  |married|secondary|no     |2476   |yes    |no  |unknown|5  |may  |579     |1       |-1   |0       |unknown |yes    |\n",
      "|54 |admin.    |married|tertiary |no     |184    |no     |no  |unknown|5  |may  |673     |2       |-1   |0       |unknown |yes    |\n",
      "+---+----------+-------+---------+-------+-------+-------+----+-------+---+-----+--------+--------+-----+--------+--------+-------+\n",
      "only showing top 5 rows\n",
      "\n"
     ]
    }
   ],
   "source": [
    "bankdata.show(n=5, truncate=False)"
   ]
  },
  {
   "cell_type": "code",
   "execution_count": 5,
   "metadata": {},
   "outputs": [
    {
     "data": {
      "text/html": [
       "<div>\n",
       "<style scoped>\n",
       "    .dataframe tbody tr th:only-of-type {\n",
       "        vertical-align: middle;\n",
       "    }\n",
       "\n",
       "    .dataframe tbody tr th {\n",
       "        vertical-align: top;\n",
       "    }\n",
       "\n",
       "    .dataframe thead th {\n",
       "        text-align: right;\n",
       "    }\n",
       "</style>\n",
       "<table border=\"1\" class=\"dataframe\">\n",
       "  <thead>\n",
       "    <tr style=\"text-align: right;\">\n",
       "      <th></th>\n",
       "      <th>age</th>\n",
       "      <th>job</th>\n",
       "      <th>marital</th>\n",
       "      <th>education</th>\n",
       "      <th>default</th>\n",
       "      <th>balance</th>\n",
       "      <th>housing</th>\n",
       "      <th>loan</th>\n",
       "      <th>contact</th>\n",
       "      <th>day</th>\n",
       "      <th>month</th>\n",
       "      <th>duration</th>\n",
       "      <th>campaign</th>\n",
       "      <th>pdays</th>\n",
       "      <th>previous</th>\n",
       "      <th>poutcome</th>\n",
       "      <th>deposit</th>\n",
       "    </tr>\n",
       "  </thead>\n",
       "  <tbody>\n",
       "    <tr>\n",
       "      <th>0</th>\n",
       "      <td>59</td>\n",
       "      <td>admin.</td>\n",
       "      <td>married</td>\n",
       "      <td>secondary</td>\n",
       "      <td>no</td>\n",
       "      <td>2343</td>\n",
       "      <td>yes</td>\n",
       "      <td>no</td>\n",
       "      <td>unknown</td>\n",
       "      <td>5</td>\n",
       "      <td>may</td>\n",
       "      <td>1042</td>\n",
       "      <td>1</td>\n",
       "      <td>-1</td>\n",
       "      <td>0</td>\n",
       "      <td>unknown</td>\n",
       "      <td>yes</td>\n",
       "    </tr>\n",
       "    <tr>\n",
       "      <th>1</th>\n",
       "      <td>56</td>\n",
       "      <td>admin.</td>\n",
       "      <td>married</td>\n",
       "      <td>secondary</td>\n",
       "      <td>no</td>\n",
       "      <td>45</td>\n",
       "      <td>no</td>\n",
       "      <td>no</td>\n",
       "      <td>unknown</td>\n",
       "      <td>5</td>\n",
       "      <td>may</td>\n",
       "      <td>1467</td>\n",
       "      <td>1</td>\n",
       "      <td>-1</td>\n",
       "      <td>0</td>\n",
       "      <td>unknown</td>\n",
       "      <td>yes</td>\n",
       "    </tr>\n",
       "    <tr>\n",
       "      <th>2</th>\n",
       "      <td>41</td>\n",
       "      <td>technician</td>\n",
       "      <td>married</td>\n",
       "      <td>secondary</td>\n",
       "      <td>no</td>\n",
       "      <td>1270</td>\n",
       "      <td>yes</td>\n",
       "      <td>no</td>\n",
       "      <td>unknown</td>\n",
       "      <td>5</td>\n",
       "      <td>may</td>\n",
       "      <td>1389</td>\n",
       "      <td>1</td>\n",
       "      <td>-1</td>\n",
       "      <td>0</td>\n",
       "      <td>unknown</td>\n",
       "      <td>yes</td>\n",
       "    </tr>\n",
       "    <tr>\n",
       "      <th>3</th>\n",
       "      <td>55</td>\n",
       "      <td>services</td>\n",
       "      <td>married</td>\n",
       "      <td>secondary</td>\n",
       "      <td>no</td>\n",
       "      <td>2476</td>\n",
       "      <td>yes</td>\n",
       "      <td>no</td>\n",
       "      <td>unknown</td>\n",
       "      <td>5</td>\n",
       "      <td>may</td>\n",
       "      <td>579</td>\n",
       "      <td>1</td>\n",
       "      <td>-1</td>\n",
       "      <td>0</td>\n",
       "      <td>unknown</td>\n",
       "      <td>yes</td>\n",
       "    </tr>\n",
       "    <tr>\n",
       "      <th>4</th>\n",
       "      <td>54</td>\n",
       "      <td>admin.</td>\n",
       "      <td>married</td>\n",
       "      <td>tertiary</td>\n",
       "      <td>no</td>\n",
       "      <td>184</td>\n",
       "      <td>no</td>\n",
       "      <td>no</td>\n",
       "      <td>unknown</td>\n",
       "      <td>5</td>\n",
       "      <td>may</td>\n",
       "      <td>673</td>\n",
       "      <td>2</td>\n",
       "      <td>-1</td>\n",
       "      <td>0</td>\n",
       "      <td>unknown</td>\n",
       "      <td>yes</td>\n",
       "    </tr>\n",
       "  </tbody>\n",
       "</table>\n",
       "</div>"
      ],
      "text/plain": [
       "   age         job  marital  education default  balance housing loan  contact  \\\n",
       "0   59      admin.  married  secondary      no     2343     yes   no  unknown   \n",
       "1   56      admin.  married  secondary      no       45      no   no  unknown   \n",
       "2   41  technician  married  secondary      no     1270     yes   no  unknown   \n",
       "3   55    services  married  secondary      no     2476     yes   no  unknown   \n",
       "4   54      admin.  married   tertiary      no      184      no   no  unknown   \n",
       "\n",
       "   day month  duration  campaign  pdays  previous poutcome deposit  \n",
       "0    5   may      1042         1     -1         0  unknown     yes  \n",
       "1    5   may      1467         1     -1         0  unknown     yes  \n",
       "2    5   may      1389         1     -1         0  unknown     yes  \n",
       "3    5   may       579         1     -1         0  unknown     yes  \n",
       "4    5   may       673         2     -1         0  unknown     yes  "
      ]
     },
     "execution_count": 5,
     "metadata": {},
     "output_type": "execute_result"
    }
   ],
   "source": [
    "pd.DataFrame(bankdata.take(5), columns=bankdata.columns)"
   ]
  },
  {
   "cell_type": "code",
   "execution_count": 6,
   "metadata": {},
   "outputs": [
    {
     "name": "stdout",
     "output_type": "stream",
     "text": [
      "root\n",
      " |-- age: integer (nullable = true)\n",
      " |-- job: string (nullable = true)\n",
      " |-- marital: string (nullable = true)\n",
      " |-- education: string (nullable = true)\n",
      " |-- default: string (nullable = true)\n",
      " |-- balance: integer (nullable = true)\n",
      " |-- housing: string (nullable = true)\n",
      " |-- loan: string (nullable = true)\n",
      " |-- contact: string (nullable = true)\n",
      " |-- day: integer (nullable = true)\n",
      " |-- month: string (nullable = true)\n",
      " |-- duration: integer (nullable = true)\n",
      " |-- campaign: integer (nullable = true)\n",
      " |-- pdays: integer (nullable = true)\n",
      " |-- previous: integer (nullable = true)\n",
      " |-- poutcome: string (nullable = true)\n",
      " |-- deposit: string (nullable = true)\n",
      "\n"
     ]
    }
   ],
   "source": [
    "bankdata.printSchema()"
   ]
  },
  {
   "cell_type": "markdown",
   "metadata": {},
   "source": [
    "Category class is weel-balanced:"
   ]
  },
  {
   "cell_type": "code",
   "execution_count": 7,
   "metadata": {},
   "outputs": [
    {
     "name": "stdout",
     "output_type": "stream",
     "text": [
      "+-------+-----+\n",
      "|deposit|count|\n",
      "+-------+-----+\n",
      "|     no| 5873|\n",
      "|    yes| 5289|\n",
      "+-------+-----+\n",
      "\n"
     ]
    }
   ],
   "source": [
    "bankdata.groupBy(\"deposit\").count().show()"
   ]
  },
  {
   "cell_type": "code",
   "execution_count": 8,
   "metadata": {},
   "outputs": [
    {
     "name": "stdout",
     "output_type": "stream",
     "text": [
      "+-------+------------------+-------+--------+---------+-------+------------------+-------+-----+--------+------------------+-----+------------------+------------------+------------------+------------------+--------+-------+\n",
      "|summary|               age|    job| marital|education|default|           balance|housing| loan| contact|               day|month|          duration|          campaign|             pdays|          previous|poutcome|deposit|\n",
      "+-------+------------------+-------+--------+---------+-------+------------------+-------+-----+--------+------------------+-----+------------------+------------------+------------------+------------------+--------+-------+\n",
      "|  count|             11162|  11162|   11162|    11162|  11162|             11162|  11162|11162|   11162|             11162|11162|             11162|             11162|             11162|             11162|   11162|  11162|\n",
      "|   mean|41.231947679627304|   null|    null|     null|   null|1528.5385235620856|   null| null|    null|15.658036194230425| null|371.99381831213043| 2.508421429851281| 51.33040673714388|0.8325568894463358|    null|   null|\n",
      "| stddev|11.913369192215518|   null|    null|     null|   null| 3225.413325946149|   null| null|    null| 8.420739541006462| null|347.12838571630687|2.7220771816614824|108.75828197197717| 2.292007218670508|    null|   null|\n",
      "|    min|                18| admin.|divorced|  primary|     no|             -6847|     no|   no|cellular|                 1|  apr|                 2|                 1|                -1|                 0| failure|     no|\n",
      "|    max|                95|unknown|  single|  unknown|    yes|             81204|    yes|  yes| unknown|                31|  sep|              3881|                63|               854|                58| unknown|    yes|\n",
      "+-------+------------------+-------+--------+---------+-------+------------------+-------+-----+--------+------------------+-----+------------------+------------------+------------------+------------------+--------+-------+\n",
      "\n"
     ]
    }
   ],
   "source": [
    "bankdata.describe().show()"
   ]
  },
  {
   "cell_type": "markdown",
   "metadata": {},
   "source": [
    "Lack of NULL values."
   ]
  },
  {
   "cell_type": "code",
   "execution_count": 9,
   "metadata": {},
   "outputs": [
    {
     "name": "stdout",
     "output_type": "stream",
     "text": [
      "+---+---+-------+---------+-------+-------+-------+----+-------+---+-----+--------+--------+-----+--------+--------+-------+\n",
      "|age|job|marital|education|default|balance|housing|loan|contact|day|month|duration|campaign|pdays|previous|poutcome|deposit|\n",
      "+---+---+-------+---------+-------+-------+-------+----+-------+---+-----+--------+--------+-----+--------+--------+-------+\n",
      "|  0|  0|      0|        0|      0|      0|      0|   0|      0|  0|    0|       0|       0|    0|       0|       0|      0|\n",
      "+---+---+-------+---------+-------+-------+-------+----+-------+---+-----+--------+--------+-----+--------+--------+-------+\n",
      "\n"
     ]
    }
   ],
   "source": [
    "data_agg = bankdata.agg(*[f.count(f.when(f.isnull(col), col)).alias(col) for col in bankdata.columns])\n",
    "data_agg.show()"
   ]
  },
  {
   "cell_type": "markdown",
   "metadata": {},
   "source": [
    "## Data preprocessing\n",
    "\n",
    "It is neede to transform string data into numerical one using `StringIndexer` cause most of ML algorithms expect nummercial values. In order to avoid some hierarchy, indexed data have to be transforemd using `OneHotEncoderEstimator` which creates sparse vector. All features will be written in one vecotr column using `VectorAssembler`.\n",
    "\n",
    "As features we do not take _duration_ which too affects the depoit attribute - if customer takes a deposity it is obciour that a phone call lasts longer. We also do not take a date realted attributes (*day*, *month*) ."
   ]
  },
  {
   "cell_type": "code",
   "execution_count": 10,
   "metadata": {},
   "outputs": [],
   "source": [
    "category_columns = ['job', 'marital', 'education', 'default','housing', 'loan', 'contact', 'poutcome']\n",
    "indexers = [\n",
    "    StringIndexer(inputCol=col, outputCol=\"{0}_indexed\".format(col))\n",
    "    for col in category_columns\n",
    "]"
   ]
  },
  {
   "cell_type": "code",
   "execution_count": 11,
   "metadata": {},
   "outputs": [],
   "source": [
    "label_string_indexer = StringIndexer(inputCol = 'deposit', outputCol = 'label')"
   ]
  },
  {
   "cell_type": "code",
   "execution_count": 12,
   "metadata": {},
   "outputs": [],
   "source": [
    "encoders = OneHotEncoderEstimator(dropLast=False)\\\n",
    "    .setInputCols([indexer.getOutputCol() for indexer in indexers])\\\n",
    "    .setOutputCols([\"{0}_encoded\".format(indexer.getOutputCol()) for indexer in indexers])    "
   ]
  },
  {
   "cell_type": "code",
   "execution_count": 13,
   "metadata": {},
   "outputs": [],
   "source": [
    "numericCols = ['age', 'balance', 'campaign', 'pdays', 'previous']\n",
    "assembler_inputs = [out_col for out_col in encoders.getOutputCols()] + numericCols\n",
    "assembler = VectorAssembler(inputCols=assembler_inputs, outputCol=\"features\")"
   ]
  },
  {
   "cell_type": "markdown",
   "metadata": {},
   "source": [
    "We create a `Pipeline` which performs all action needed to preprocess data."
   ]
  },
  {
   "cell_type": "code",
   "execution_count": 14,
   "metadata": {},
   "outputs": [],
   "source": [
    "stages = [indexer for indexer in indexers]\n",
    "stages += [label_string_indexer]\n",
    "stages += [encoders]\n",
    "stages += [assembler]\n",
    "pipeline = Pipeline(stages=stages)\n",
    "\n",
    "pipelineModel = pipeline.fit(bankdata)\n",
    "bankdata_updated = pipelineModel.transform(bankdata)"
   ]
  },
  {
   "cell_type": "code",
   "execution_count": 15,
   "metadata": {},
   "outputs": [
    {
     "name": "stdout",
     "output_type": "stream",
     "text": [
      "root\n",
      " |-- label: double (nullable = false)\n",
      " |-- features: vector (nullable = true)\n",
      " |-- age: integer (nullable = true)\n",
      " |-- job: string (nullable = true)\n",
      " |-- marital: string (nullable = true)\n",
      " |-- education: string (nullable = true)\n",
      " |-- default: string (nullable = true)\n",
      " |-- balance: integer (nullable = true)\n",
      " |-- housing: string (nullable = true)\n",
      " |-- loan: string (nullable = true)\n",
      " |-- contact: string (nullable = true)\n",
      " |-- day: integer (nullable = true)\n",
      " |-- month: string (nullable = true)\n",
      " |-- duration: integer (nullable = true)\n",
      " |-- campaign: integer (nullable = true)\n",
      " |-- pdays: integer (nullable = true)\n",
      " |-- previous: integer (nullable = true)\n",
      " |-- poutcome: string (nullable = true)\n",
      " |-- deposit: string (nullable = true)\n",
      "\n"
     ]
    }
   ],
   "source": [
    "original_cols = bankdata.columns\n",
    "selected_cols = ['label', 'features'] + original_cols\n",
    "df = bankdata_updated.select(selected_cols)\n",
    "df.printSchema()"
   ]
  },
  {
   "cell_type": "code",
   "execution_count": 16,
   "metadata": {},
   "outputs": [
    {
     "name": "stdout",
     "output_type": "stream",
     "text": [
      "+-----+------------------------------------------------------------------------------------------------+---+----------+-------+---------+-------+-------+-------+----+-------+---+-----+--------+--------+-----+--------+--------+-------+\n",
      "|label|features                                                                                        |age|job       |marital|education|default|balance|housing|loan|contact|day|month|duration|campaign|pdays|previous|poutcome|deposit|\n",
      "+-----+------------------------------------------------------------------------------------------------+---+----------+-------+---------+-------+-------+-------+----+-------+---+-----+--------+--------+-----+--------+--------+-------+\n",
      "|1.0  |(37,[3,12,15,19,22,23,26,28,32,33,34,35],[1.0,1.0,1.0,1.0,1.0,1.0,1.0,1.0,59.0,2343.0,1.0,-1.0])|59 |admin.    |married|secondary|no     |2343   |yes    |no  |unknown|5  |may  |1042    |1       |-1   |0       |unknown |yes    |\n",
      "|1.0  |(37,[3,12,15,19,21,23,26,28,32,33,34,35],[1.0,1.0,1.0,1.0,1.0,1.0,1.0,1.0,56.0,45.0,1.0,-1.0])  |56 |admin.    |married|secondary|no     |45     |no     |no  |unknown|5  |may  |1467    |1       |-1   |0       |unknown |yes    |\n",
      "|1.0  |(37,[2,12,15,19,22,23,26,28,32,33,34,35],[1.0,1.0,1.0,1.0,1.0,1.0,1.0,1.0,41.0,1270.0,1.0,-1.0])|41 |technician|married|secondary|no     |1270   |yes    |no  |unknown|5  |may  |1389    |1       |-1   |0       |unknown |yes    |\n",
      "|1.0  |(37,[4,12,15,19,22,23,26,28,32,33,34,35],[1.0,1.0,1.0,1.0,1.0,1.0,1.0,1.0,55.0,2476.0,1.0,-1.0])|55 |services  |married|secondary|no     |2476   |yes    |no  |unknown|5  |may  |579     |1       |-1   |0       |unknown |yes    |\n",
      "|1.0  |(37,[3,12,16,19,21,23,26,28,32,33,34,35],[1.0,1.0,1.0,1.0,1.0,1.0,1.0,1.0,54.0,184.0,2.0,-1.0]) |54 |admin.    |married|tertiary |no     |184    |no     |no  |unknown|5  |may  |673     |2       |-1   |0       |unknown |yes    |\n",
      "+-----+------------------------------------------------------------------------------------------------+---+----------+-------+---------+-------+-------+-------+----+-------+---+-----+--------+--------+-----+--------+--------+-------+\n",
      "only showing top 5 rows\n",
      "\n"
     ]
    }
   ],
   "source": [
    "df.show(n=5, truncate=False)"
   ]
  },
  {
   "cell_type": "markdown",
   "metadata": {},
   "source": [
    "We see that deposit YES value is labelled as 1.0. Thus NO value is labelled as 0.0."
   ]
  },
  {
   "cell_type": "code",
   "execution_count": 17,
   "metadata": {},
   "outputs": [
    {
     "name": "stdout",
     "output_type": "stream",
     "text": [
      "+-----+-------+-----+\n",
      "|label|deposit|count|\n",
      "+-----+-------+-----+\n",
      "|  0.0|     no| 5873|\n",
      "|  1.0|    yes| 5289|\n",
      "+-----+-------+-----+\n",
      "\n"
     ]
    }
   ],
   "source": [
    "df.groupBy(\"label\", 'deposit').count().show()"
   ]
  },
  {
   "cell_type": "markdown",
   "metadata": {},
   "source": [
    "## Selecting features\n",
    "\n",
    "We select features performing $\\chi^2$ test for independence between the features and the label column."
   ]
  },
  {
   "cell_type": "code",
   "execution_count": 99,
   "metadata": {},
   "outputs": [],
   "source": [
    "features_num = 29\n",
    "selector = ChiSqSelector()\\\n",
    "    .setNumTopFeatures(features_num)\\\n",
    "    .setFeaturesCol(\"features\")\\\n",
    "    .setLabelCol(\"label\")\\\n",
    "    .setOutputCol(\"selected_features\")\n",
    "\n",
    "bankdata_with_sel_feat = selector.fit(bankdata_updated).transform(bankdata_updated)"
   ]
  },
  {
   "cell_type": "code",
   "execution_count": 100,
   "metadata": {},
   "outputs": [
    {
     "name": "stdout",
     "output_type": "stream",
     "text": [
      "root\n",
      " |-- label: double (nullable = false)\n",
      " |-- features: vector (nullable = true)\n",
      " |-- selected_features: vector (nullable = true)\n",
      " |-- age: integer (nullable = true)\n",
      " |-- job: string (nullable = true)\n",
      " |-- marital: string (nullable = true)\n",
      " |-- education: string (nullable = true)\n",
      " |-- default: string (nullable = true)\n",
      " |-- balance: integer (nullable = true)\n",
      " |-- housing: string (nullable = true)\n",
      " |-- loan: string (nullable = true)\n",
      " |-- contact: string (nullable = true)\n",
      " |-- day: integer (nullable = true)\n",
      " |-- month: string (nullable = true)\n",
      " |-- duration: integer (nullable = true)\n",
      " |-- campaign: integer (nullable = true)\n",
      " |-- pdays: integer (nullable = true)\n",
      " |-- previous: integer (nullable = true)\n",
      " |-- poutcome: string (nullable = true)\n",
      " |-- deposit: string (nullable = true)\n",
      "\n"
     ]
    }
   ],
   "source": [
    "selected_cols = ['label', 'features', 'selected_features'] + original_cols\n",
    "df = bankdata_with_sel_feat.select(selected_cols)\n",
    "df.printSchema()"
   ]
  },
  {
   "cell_type": "code",
   "execution_count": 101,
   "metadata": {},
   "outputs": [
    {
     "name": "stdout",
     "output_type": "stream",
     "text": [
      "+-----+------------------------------------------------------------------------------------------------+-----------------------------------------------------------------------------------------------+---+----------+-------+---------+-------+-------+-------+----+-------+---+-----+--------+--------+-----+--------+--------+-------+\n",
      "|label|features                                                                                        |selected_features                                                                              |age|job       |marital|education|default|balance|housing|loan|contact|day|month|duration|campaign|pdays|previous|poutcome|deposit|\n",
      "+-----+------------------------------------------------------------------------------------------------+-----------------------------------------------------------------------------------------------+---+----------+-------+---------+-------+-------+-------+----+-------+---+-----+--------+--------+-----+--------+--------+-------+\n",
      "|1.0  |(37,[3,12,15,19,22,23,26,28,32,33,34,35],[1.0,1.0,1.0,1.0,1.0,1.0,1.0,1.0,59.0,2343.0,1.0,-1.0])|(29,[8,10,13,16,17,20,21,24,25,26,27],[1.0,1.0,1.0,1.0,1.0,1.0,1.0,59.0,2343.0,1.0,-1.0])      |59 |admin.    |married|secondary|no     |2343   |yes    |no  |unknown|5  |may  |1042    |1       |-1   |0       |unknown |yes    |\n",
      "|1.0  |(37,[3,12,15,19,21,23,26,28,32,33,34,35],[1.0,1.0,1.0,1.0,1.0,1.0,1.0,1.0,56.0,45.0,1.0,-1.0])  |(29,[8,10,13,15,17,20,21,24,25,26,27],[1.0,1.0,1.0,1.0,1.0,1.0,1.0,56.0,45.0,1.0,-1.0])        |56 |admin.    |married|secondary|no     |45     |no     |no  |unknown|5  |may  |1467    |1       |-1   |0       |unknown |yes    |\n",
      "|1.0  |(37,[2,12,15,19,22,23,26,28,32,33,34,35],[1.0,1.0,1.0,1.0,1.0,1.0,1.0,1.0,41.0,1270.0,1.0,-1.0])|(29,[8,10,13,16,17,20,21,24,25,26,27],[1.0,1.0,1.0,1.0,1.0,1.0,1.0,41.0,1270.0,1.0,-1.0])      |41 |technician|married|secondary|no     |1270   |yes    |no  |unknown|5  |may  |1389    |1       |-1   |0       |unknown |yes    |\n",
      "|1.0  |(37,[4,12,15,19,22,23,26,28,32,33,34,35],[1.0,1.0,1.0,1.0,1.0,1.0,1.0,1.0,55.0,2476.0,1.0,-1.0])|(29,[2,8,10,13,16,17,20,21,24,25,26,27],[1.0,1.0,1.0,1.0,1.0,1.0,1.0,1.0,55.0,2476.0,1.0,-1.0])|55 |services  |married|secondary|no     |2476   |yes    |no  |unknown|5  |may  |579     |1       |-1   |0       |unknown |yes    |\n",
      "|1.0  |(37,[3,12,16,19,21,23,26,28,32,33,34,35],[1.0,1.0,1.0,1.0,1.0,1.0,1.0,1.0,54.0,184.0,2.0,-1.0]) |(29,[8,11,13,15,17,20,21,24,25,26,27],[1.0,1.0,1.0,1.0,1.0,1.0,1.0,54.0,184.0,2.0,-1.0])       |54 |admin.    |married|tertiary |no     |184    |no     |no  |unknown|5  |may  |673     |2       |-1   |0       |unknown |yes    |\n",
      "+-----+------------------------------------------------------------------------------------------------+-----------------------------------------------------------------------------------------------+---+----------+-------+---------+-------+-------+-------+----+-------+---+-----+--------+--------+-----+--------+--------+-------+\n",
      "only showing top 5 rows\n",
      "\n"
     ]
    }
   ],
   "source": [
    "df.show(n=5, truncate=False)"
   ]
  },
  {
   "cell_type": "markdown",
   "metadata": {},
   "source": [
    "## Splitting the dataset\n",
    "\n",
    "We split our dataset into training and test datesets."
   ]
  },
  {
   "cell_type": "code",
   "execution_count": 102,
   "metadata": {},
   "outputs": [
    {
     "name": "stdout",
     "output_type": "stream",
     "text": [
      "Train dataset size: 8960\n",
      "Test dataset size: 2202\n"
     ]
    }
   ],
   "source": [
    "train, test = bankdata_with_sel_feat.randomSplit([0.80, 0.20], seed = 42)\n",
    "print(\"Train dataset size: \" + str(train.count()))\n",
    "print(\"Test dataset size: \" + str(test.count()))"
   ]
  },
  {
   "cell_type": "markdown",
   "metadata": {},
   "source": [
    "Function calculating accuracy of given model:"
   ]
  },
  {
   "cell_type": "code",
   "execution_count": 49,
   "metadata": {},
   "outputs": [],
   "source": [
    "def accuracy_m(predictions): \n",
    "    cm = predictions.select(\"label\", \"prediction\")\n",
    "    acc = cm.filter(cm.label == cm.prediction).count() / cm.count()\n",
    "    print(\"Model accuracy: %.3f%%\" % (acc * 100)) \n",
    "    return acc\n",
    "\n",
    "best_accuracies = {}"
   ]
  },
  {
   "cell_type": "code",
   "execution_count": 50,
   "metadata": {},
   "outputs": [],
   "source": [
    "def print_conf_matrix_and_report(predictions):\n",
    "    y_true = predictions.select(['label']).collect()\n",
    "    y_pred = predictions.select(['prediction']).collect()\n",
    "    \n",
    "    print(classification_report(y_true, y_pred))\n",
    "    conf_mat = confusion_matrix(y_true, y_pred)  \n",
    "    tick_labels=['no','yes']\n",
    "    sns.heatmap(conf_mat, annot=True, fmt='d',\n",
    "                xticklabels=tick_labels, yticklabels=tick_labels, cmap='Blues', cbar=None, annot_kws={\"fontsize\":20})\n",
    "    plt.xticks(\n",
    "        rotation=45,\n",
    "        ha='right',\n",
    "        fontsize=18\n",
    "    )\n",
    "    plt.yticks(fontsize=18)\n",
    "    plt.ylabel('Actual', fontsize=18)\n",
    "    plt.xlabel('Predicted', fontsize=18)\n",
    "    plt.title(\"Confusion matrix\", fontsize=26)"
   ]
  },
  {
   "cell_type": "code",
   "execution_count": 24,
   "metadata": {},
   "outputs": [],
   "source": [
    "def print_best_accuracies():\n",
    "    print(\"Best accuracies:\")\n",
    "    for model_name, acc in best_accuracies.items():\n",
    "        print(\" - \" +model_name + ': ' + \"%.3f%%\" % (acc * 100))"
   ]
  },
  {
   "cell_type": "markdown",
   "metadata": {},
   "source": [
    "## Logistic Regression"
   ]
  },
  {
   "cell_type": "code",
   "execution_count": 103,
   "metadata": {},
   "outputs": [],
   "source": [
    "lr = LogisticRegression(featuresCol='selected_features',\n",
    "                        labelCol='label',\n",
    "                        maxIter=10,\n",
    "                        regParam=0.3)\n",
    "lr_model = lr.fit(train)\n"
   ]
  },
  {
   "cell_type": "code",
   "execution_count": 104,
   "metadata": {},
   "outputs": [
    {
     "data": {
      "image/png": "[encoded data removed]",
      "text/plain": [
       "<Figure size 432x288 with 1 Axes>"
      ]
     },
     "metadata": {
      "needs_background": "light"
     },
     "output_type": "display_data"
    },
    {
     "name": "stdout",
     "output_type": "stream",
     "text": [
      "Training set areaUnderROC: 0.7355802541252234\n"
     ]
    }
   ],
   "source": [
    "roc = lr_model.summary.roc.toPandas()\n",
    "plt.plot(roc['FPR'],roc['TPR'])\n",
    "plt.ylabel('False Positive Rate')\n",
    "plt.xlabel('True Positive Rate')\n",
    "plt.title('ROC Curve')\n",
    "plt.show()\n",
    "print('Training set areaUnderROC: ' + str(lr_model.summary.areaUnderROC))"
   ]
  },
  {
   "cell_type": "code",
   "execution_count": 105,
   "metadata": {},
   "outputs": [],
   "source": [
    "lr_predictions = lr_model.transform(test)"
   ]
  },
  {
   "cell_type": "code",
   "execution_count": 106,
   "metadata": {},
   "outputs": [
    {
     "name": "stdout",
     "output_type": "stream",
     "text": [
      "+--------------------+--------------------+--------------------+----------+-----+\n",
      "|   selected_features|       rawPrediction|         probability|prediction|label|\n",
      "+--------------------+--------------------+--------------------+----------+-----+\n",
      "|(29,[4,9,12,13,15...|[-1.4237077096878...|[0.19408098964445...|       1.0|  1.0|\n",
      "|(29,[4,9,10,13,15...|[-0.4697727432987...|[0.38467003363244...|       1.0|  0.0|\n",
      "|(29,[4,9,13,15,17...|[-0.5183696722551...|[0.37323353779774...|       1.0|  1.0|\n",
      "|(29,[4,9,10,13,15...|[-0.4760859406549...|[0.38317679832412...|       1.0|  1.0|\n",
      "|(29,[4,9,10,13,15...|[-0.4425740721414...|[0.39112779060023...|       1.0|  1.0|\n",
      "|(29,[4,9,11,13,16...|[0.27121865803904...|[0.56739205924049...|       0.0|  0.0|\n",
      "|(29,[4,9,12,13,15...|[-1.1967725424499...|[0.23204986077455...|       1.0|  1.0|\n",
      "|(29,[4,9,12,13,15...|[-0.6039183325163...|[0.35344775353172...|       1.0|  1.0|\n",
      "|(29,[4,9,10,13,15...|[-1.2226982135817...|[0.22746196370378...|       1.0|  1.0|\n",
      "|(29,[4,9,10,13,15...|[-0.4443418225982...|[0.39070688752762...|       1.0|  0.0|\n",
      "+--------------------+--------------------+--------------------+----------+-----+\n",
      "only showing top 10 rows\n",
      "\n"
     ]
    }
   ],
   "source": [
    "lr_predictions.select('selected_features', 'rawPrediction', 'probability', 'prediction', 'label').show(10)"
   ]
  },
  {
   "cell_type": "code",
   "execution_count": 107,
   "metadata": {},
   "outputs": [
    {
     "name": "stdout",
     "output_type": "stream",
     "text": [
      "Model accuracy: 68.029%\n"
     ]
    },
    {
     "data": {
      "text/plain": [
       "0.6802906448683016"
      ]
     },
     "execution_count": 107,
     "metadata": {},
     "output_type": "execute_result"
    }
   ],
   "source": [
    "accuracy_m(lr_predictions)"
   ]
  },
  {
   "cell_type": "code",
   "execution_count": 108,
   "metadata": {},
   "outputs": [
    {
     "name": "stdout",
     "output_type": "stream",
     "text": [
      "              precision    recall  f1-score   support\n",
      "\n",
      "         0.0       0.67      0.76      0.71      1159\n",
      "         1.0       0.69      0.59      0.64      1043\n",
      "\n",
      "    accuracy                           0.68      2202\n",
      "   macro avg       0.68      0.68      0.68      2202\n",
      "weighted avg       0.68      0.68      0.68      2202\n",
      "\n"
     ]
    },
    {
     "data": {
      "image/png": "[encoded data removed]",
      "text/plain": [
       "<Figure size 432x288 with 1 Axes>"
      ]
     },
     "metadata": {
      "needs_background": "light"
     },
     "output_type": "display_data"
    }
   ],
   "source": [
    "print_conf_matrix_and_report(lr_predictions)"
   ]
  },
  {
   "cell_type": "markdown",
   "metadata": {},
   "source": [
    "Tuning regularization hyperparameter with cross-validation."
   ]
  },
  {
   "cell_type": "code",
   "execution_count": 109,
   "metadata": {},
   "outputs": [],
   "source": [
    "evaluator = BinaryClassificationEvaluator()\n",
    "paramGrid = (ParamGridBuilder()\n",
    "             .addGrid(lr.regParam, [0, 0.1, 0.3])\n",
    "              .addGrid(lr.maxIter, [10, 15])\n",
    "             .build())\n",
    "cv = CrossValidator(estimator=lr,\n",
    "                    estimatorParamMaps=paramGrid,\n",
    "                    evaluator=evaluator, numFolds=5)\n",
    "cvModel = cv.fit(train)"
   ]
  },
  {
   "cell_type": "code",
   "execution_count": 110,
   "metadata": {},
   "outputs": [
    {
     "name": "stdout",
     "output_type": "stream",
     "text": [
      "Model accuracy: 67.620%\n"
     ]
    }
   ],
   "source": [
    "best_lr_model = cvModel.bestModel\n",
    "cv_lr_predictions = best_lr_model.transform(test)\n",
    "acc = accuracy_m(cv_lr_predictions)\n",
    "best_accuracies[type(best_lr_model).__name__] = acc"
   ]
  },
  {
   "cell_type": "code",
   "execution_count": 111,
   "metadata": {},
   "outputs": [
    {
     "name": "stdout",
     "output_type": "stream",
     "text": [
      "              precision    recall  f1-score   support\n",
      "\n",
      "         0.0       0.67      0.76      0.71      1159\n",
      "         1.0       0.69      0.58      0.63      1043\n",
      "\n",
      "    accuracy                           0.68      2202\n",
      "   macro avg       0.68      0.67      0.67      2202\n",
      "weighted avg       0.68      0.68      0.67      2202\n",
      "\n"
     ]
    },
    {
     "data": {
      "image/png": "[encoded data removed]",
      "text/plain": [
       "<Figure size 432x288 with 1 Axes>"
      ]
     },
     "metadata": {
      "needs_background": "light"
     },
     "output_type": "display_data"
    }
   ],
   "source": [
    "print_conf_matrix_and_report(cv_lr_predictions)"
   ]
  },
  {
   "cell_type": "code",
   "execution_count": 112,
   "metadata": {},
   "outputs": [
    {
     "name": "stdout",
     "output_type": "stream",
     "text": [
      "The best Logistic Regression CV regularization param: 0.0\n"
     ]
    }
   ],
   "source": [
    "print('The best Logistic Regression CV regularization param: ' + str(cvModel.bestModel.getOrDefault('regParam')))"
   ]
  },
  {
   "cell_type": "markdown",
   "metadata": {},
   "source": [
    "## Decision Tree"
   ]
  },
  {
   "cell_type": "code",
   "execution_count": 113,
   "metadata": {},
   "outputs": [],
   "source": [
    "dt = DecisionTreeClassifier(featuresCol = 'selected_features', labelCol = 'label', maxDepth = 3)\n",
    "dtModel = dt.fit(train)\n",
    "dt_predictions = dtModel.transform(test)"
   ]
  },
  {
   "cell_type": "code",
   "execution_count": 114,
   "metadata": {},
   "outputs": [
    {
     "name": "stdout",
     "output_type": "stream",
     "text": [
      "+--------------------+---------------+--------------------+----------+-----+\n",
      "|   selected_features|  rawPrediction|         probability|prediction|label|\n",
      "+--------------------+---------------+--------------------+----------+-----+\n",
      "|(29,[4,9,12,13,15...|   [68.0,783.0]|[0.07990599294947...|       1.0|  1.0|\n",
      "|(29,[4,9,10,13,15...|[3075.0,2718.0]|[0.53081305023303...|       0.0|  0.0|\n",
      "|(29,[4,9,13,15,17...|[3075.0,2718.0]|[0.53081305023303...|       0.0|  1.0|\n",
      "|(29,[4,9,10,13,15...|[3075.0,2718.0]|[0.53081305023303...|       0.0|  1.0|\n",
      "|(29,[4,9,10,13,15...|[3075.0,2718.0]|[0.53081305023303...|       0.0|  1.0|\n",
      "|(29,[4,9,11,13,16...| [1459.0,414.0]|[0.77896422851041...|       0.0|  0.0|\n",
      "|(29,[4,9,12,13,15...|   [68.0,783.0]|[0.07990599294947...|       1.0|  1.0|\n",
      "|(29,[4,9,12,13,15...|[3075.0,2718.0]|[0.53081305023303...|       0.0|  1.0|\n",
      "|(29,[4,9,10,13,15...|   [68.0,783.0]|[0.07990599294947...|       1.0|  1.0|\n",
      "|(29,[4,9,10,13,15...|[3075.0,2718.0]|[0.53081305023303...|       0.0|  0.0|\n",
      "+--------------------+---------------+--------------------+----------+-----+\n",
      "only showing top 10 rows\n",
      "\n"
     ]
    }
   ],
   "source": [
    "dt_predictions.select('selected_features', 'rawPrediction', 'probability', 'prediction', 'label').show(10)"
   ]
  },
  {
   "cell_type": "code",
   "execution_count": 115,
   "metadata": {},
   "outputs": [
    {
     "name": "stdout",
     "output_type": "stream",
     "text": [
      "Model accuracy: 63.397%\n"
     ]
    },
    {
     "data": {
      "text/plain": [
       "0.633969118982743"
      ]
     },
     "execution_count": 115,
     "metadata": {},
     "output_type": "execute_result"
    }
   ],
   "source": [
    "accuracy_m(dt_predictions)"
   ]
  },
  {
   "cell_type": "code",
   "execution_count": 116,
   "metadata": {},
   "outputs": [
    {
     "name": "stdout",
     "output_type": "stream",
     "text": [
      "              precision    recall  f1-score   support\n",
      "\n",
      "         0.0       0.59      0.96      0.73      1159\n",
      "         1.0       0.85      0.28      0.42      1043\n",
      "\n",
      "    accuracy                           0.63      2202\n",
      "   macro avg       0.72      0.62      0.58      2202\n",
      "weighted avg       0.71      0.63      0.58      2202\n",
      "\n"
     ]
    },
    {
     "data": {
      "image/png": "[encoded data removed]",
      "text/plain": [
       "<Figure size 432x288 with 1 Axes>"
      ]
     },
     "metadata": {
      "needs_background": "light"
     },
     "output_type": "display_data"
    }
   ],
   "source": [
    "print_conf_matrix_and_report(dt_predictions)"
   ]
  },
  {
   "cell_type": "code",
   "execution_count": 120,
   "metadata": {},
   "outputs": [],
   "source": [
    "evaluator = BinaryClassificationEvaluator()\n",
    "paramGrid = (ParamGridBuilder()\n",
    "             .addGrid(dt.maxDepth, [1,2,3,4,5])\n",
    "             .addGrid(dt.maxBins, [2, 4, 8])\n",
    "             .build())\n",
    "cv = CrossValidator(estimator=dt,\n",
    "                    estimatorParamMaps=paramGrid,\n",
    "                    evaluator=evaluator, numFolds=5)\n",
    "dt_cvModel = cv.fit(train)"
   ]
  },
  {
   "cell_type": "code",
   "execution_count": 121,
   "metadata": {},
   "outputs": [
    {
     "name": "stdout",
     "output_type": "stream",
     "text": [
      "Model accuracy: 67.530%\n"
     ]
    }
   ],
   "source": [
    "best_dt_model = dt_cvModel.bestModel\n",
    "cv_dt_predictions = best_dt_model.transform(test)\n",
    "acc = accuracy_m(cv_dt_predictions)\n",
    "best_accuracies[type(best_dt_model).__name__] = acc"
   ]
  },
  {
   "cell_type": "code",
   "execution_count": 122,
   "metadata": {},
   "outputs": [
    {
     "name": "stdout",
     "output_type": "stream",
     "text": [
      "              precision    recall  f1-score   support\n",
      "\n",
      "         0.0       0.69      0.70      0.69      1159\n",
      "         1.0       0.66      0.65      0.66      1043\n",
      "\n",
      "    accuracy                           0.68      2202\n",
      "   macro avg       0.67      0.67      0.67      2202\n",
      "weighted avg       0.68      0.68      0.68      2202\n",
      "\n"
     ]
    },
    {
     "data": {
      "image/png": "[encoded data removed]",
      "text/plain": [
       "<Figure size 432x288 with 1 Axes>"
      ]
     },
     "metadata": {
      "needs_background": "light"
     },
     "output_type": "display_data"
    }
   ],
   "source": [
    "print_conf_matrix_and_report(cv_dt_predictions)"
   ]
  },
  {
   "cell_type": "code",
   "execution_count": 123,
   "metadata": {},
   "outputs": [
    {
     "name": "stdout",
     "output_type": "stream",
     "text": [
      "The best DecisionTree CV model max_depth param: 5, maxBins: 2\n"
     ]
    }
   ],
   "source": [
    "print('The best DecisionTree CV model max_depth param: ' + str(best_dt_model.getOrDefault('maxDepth'))\\\n",
    "       + \", maxBins: \" + str(best_dt_model.getOrDefault('maxBins')))"
   ]
  },
  {
   "cell_type": "markdown",
   "metadata": {},
   "source": [
    "## Random Forest"
   ]
  },
  {
   "cell_type": "code",
   "execution_count": 124,
   "metadata": {},
   "outputs": [],
   "source": [
    "rf = RandomForestClassifier(featuresCol = 'selected_features', labelCol = 'label', maxDepth = 3, numTrees  = 20, )\n",
    "rfModel = dt.fit(train)\n",
    "rf_predictions = rfModel.transform(test)"
   ]
  },
  {
   "cell_type": "code",
   "execution_count": 125,
   "metadata": {},
   "outputs": [
    {
     "name": "stdout",
     "output_type": "stream",
     "text": [
      "+--------------------+---------------+--------------------+----------+-----+\n",
      "|   selected_features|  rawPrediction|         probability|prediction|label|\n",
      "+--------------------+---------------+--------------------+----------+-----+\n",
      "|(29,[4,9,12,13,15...|   [68.0,783.0]|[0.07990599294947...|       1.0|  1.0|\n",
      "|(29,[4,9,10,13,15...|[3075.0,2718.0]|[0.53081305023303...|       0.0|  0.0|\n",
      "|(29,[4,9,13,15,17...|[3075.0,2718.0]|[0.53081305023303...|       0.0|  1.0|\n",
      "|(29,[4,9,10,13,15...|[3075.0,2718.0]|[0.53081305023303...|       0.0|  1.0|\n",
      "|(29,[4,9,10,13,15...|[3075.0,2718.0]|[0.53081305023303...|       0.0|  1.0|\n",
      "|(29,[4,9,11,13,16...| [1459.0,414.0]|[0.77896422851041...|       0.0|  0.0|\n",
      "|(29,[4,9,12,13,15...|   [68.0,783.0]|[0.07990599294947...|       1.0|  1.0|\n",
      "|(29,[4,9,12,13,15...|[3075.0,2718.0]|[0.53081305023303...|       0.0|  1.0|\n",
      "|(29,[4,9,10,13,15...|   [68.0,783.0]|[0.07990599294947...|       1.0|  1.0|\n",
      "|(29,[4,9,10,13,15...|[3075.0,2718.0]|[0.53081305023303...|       0.0|  0.0|\n",
      "+--------------------+---------------+--------------------+----------+-----+\n",
      "only showing top 10 rows\n",
      "\n"
     ]
    }
   ],
   "source": [
    "rf_predictions.select('selected_features', 'rawPrediction', 'probability', 'prediction', 'label').show(10)"
   ]
  },
  {
   "cell_type": "code",
   "execution_count": 126,
   "metadata": {},
   "outputs": [
    {
     "name": "stdout",
     "output_type": "stream",
     "text": [
      "Model accuracy: 63.397%\n"
     ]
    },
    {
     "data": {
      "text/plain": [
       "0.633969118982743"
      ]
     },
     "execution_count": 126,
     "metadata": {},
     "output_type": "execute_result"
    }
   ],
   "source": [
    "accuracy_m(rf_predictions)"
   ]
  },
  {
   "cell_type": "code",
   "execution_count": 127,
   "metadata": {},
   "outputs": [
    {
     "name": "stdout",
     "output_type": "stream",
     "text": [
      "              precision    recall  f1-score   support\n",
      "\n",
      "         0.0       0.59      0.96      0.73      1159\n",
      "         1.0       0.85      0.28      0.42      1043\n",
      "\n",
      "    accuracy                           0.63      2202\n",
      "   macro avg       0.72      0.62      0.58      2202\n",
      "weighted avg       0.71      0.63      0.58      2202\n",
      "\n"
     ]
    },
    {
     "data": {
      "image/png": "[encoded data removed]",
      "text/plain": [
       "<Figure size 432x288 with 1 Axes>"
      ]
     },
     "metadata": {
      "needs_background": "light"
     },
     "output_type": "display_data"
    }
   ],
   "source": [
    "print_conf_matrix_and_report(rf_predictions)"
   ]
  },
  {
   "cell_type": "code",
   "execution_count": 128,
   "metadata": {},
   "outputs": [],
   "source": [
    "evaluator = BinaryClassificationEvaluator()\n",
    "paramGrid = (ParamGridBuilder()\n",
    "             .addGrid(rf.maxDepth, [3,4,5])\n",
    "             .addGrid(rf.maxBins, [8, 16, 32])\n",
    "             .addGrid(rf.numTrees , [10, 20, 30])\n",
    "             .build())\n",
    "cv = CrossValidator(estimator=rf,\n",
    "                    estimatorParamMaps=paramGrid,\n",
    "                    evaluator=evaluator, numFolds=5)\n",
    "rf_cvModel = cv.fit(train)"
   ]
  },
  {
   "cell_type": "code",
   "execution_count": 129,
   "metadata": {},
   "outputs": [
    {
     "name": "stdout",
     "output_type": "stream",
     "text": [
      "Model accuracy: 68.847%\n"
     ]
    }
   ],
   "source": [
    "best_rf_model = rf_cvModel.bestModel\n",
    "cv_rf_predictions = best_rf_model.transform(test)\n",
    "acc = accuracy_m(cv_rf_predictions)\n",
    "best_accuracies[type(best_rf_model).__name__] = acc"
   ]
  },
  {
   "cell_type": "code",
   "execution_count": 130,
   "metadata": {},
   "outputs": [
    {
     "name": "stdout",
     "output_type": "stream",
     "text": [
      "              precision    recall  f1-score   support\n",
      "\n",
      "         0.0       0.67      0.81      0.73      1159\n",
      "         1.0       0.73      0.55      0.63      1043\n",
      "\n",
      "    accuracy                           0.69      2202\n",
      "   macro avg       0.70      0.68      0.68      2202\n",
      "weighted avg       0.70      0.69      0.68      2202\n",
      "\n"
     ]
    },
    {
     "data": {
      "image/png": "[encoded data removed]",
      "text/plain": [
       "<Figure size 432x288 with 1 Axes>"
      ]
     },
     "metadata": {
      "needs_background": "light"
     },
     "output_type": "display_data"
    }
   ],
   "source": [
    "print_conf_matrix_and_report(cv_rf_predictions)"
   ]
  },
  {
   "cell_type": "code",
   "execution_count": 131,
   "metadata": {},
   "outputs": [
    {
     "name": "stdout",
     "output_type": "stream",
     "text": [
      "The best RandomForest CV model max_depth param: 5, maxBins: 32, numTrees: 30, impurity: gini\n"
     ]
    }
   ],
   "source": [
    "print('The best RandomForest CV model max_depth param: ' + str(best_rf_model.getOrDefault('maxDepth'))\\\n",
    "       + \", maxBins: \" + str(best_rf_model.getOrDefault('maxBins'))\n",
    "       + \", numTrees: \" + str(best_rf_model.getOrDefault('numTrees'))\n",
    "       + \", impurity: \" + str(best_rf_model.getOrDefault('impurity')))"
   ]
  },
  {
   "cell_type": "markdown",
   "metadata": {},
   "source": [
    "## Gradient-Boosted Tree Classifier"
   ]
  },
  {
   "cell_type": "code",
   "execution_count": 132,
   "metadata": {},
   "outputs": [],
   "source": [
    "gbt = GBTClassifier(featuresCol = 'selected_features', labelCol = 'label',stepSize=0.1, maxDepth=5, maxBins=32, maxIter=20)\n",
    "gbtModel = gbt.fit(train)\n",
    "gbt_predictions = gbtModel.transform(test)"
   ]
  },
  {
   "cell_type": "code",
   "execution_count": 133,
   "metadata": {},
   "outputs": [
    {
     "name": "stdout",
     "output_type": "stream",
     "text": [
      "+--------------------+--------------------+--------------------+----------+-----+\n",
      "|   selected_features|       rawPrediction|         probability|prediction|label|\n",
      "+--------------------+--------------------+--------------------+----------+-----+\n",
      "|(29,[4,9,12,13,15...|[-1.1286519213867...|[0.09472130974241...|       1.0|  1.0|\n",
      "|(29,[4,9,10,13,15...|[-0.5617170252148...|[0.24537485817950...|       1.0|  0.0|\n",
      "|(29,[4,9,13,15,17...|[-0.5177683415947...|[0.26201211154596...|       1.0|  1.0|\n",
      "|(29,[4,9,10,13,15...|[-0.7961673960713...|[0.16905566156137...|       1.0|  1.0|\n",
      "|(29,[4,9,10,13,15...|[-0.7961673960713...|[0.16905566156137...|       1.0|  1.0|\n",
      "|(29,[4,9,11,13,16...|[0.48157372755462...|[0.72375153531622...|       0.0|  0.0|\n",
      "|(29,[4,9,12,13,15...|[-0.7382585492476...|[0.18595406746310...|       1.0|  1.0|\n",
      "|(29,[4,9,12,13,15...|[-0.3795406326077...|[0.31884576670233...|       1.0|  1.0|\n",
      "|(29,[4,9,10,13,15...|[-0.8590569835504...|[0.15211425613936...|       1.0|  1.0|\n",
      "|(29,[4,9,10,13,15...|[-0.7961673960713...|[0.16905566156137...|       1.0|  0.0|\n",
      "+--------------------+--------------------+--------------------+----------+-----+\n",
      "only showing top 10 rows\n",
      "\n"
     ]
    }
   ],
   "source": [
    "gbt_predictions.select('selected_features', 'rawPrediction', 'probability', 'prediction', 'label').show(10)"
   ]
  },
  {
   "cell_type": "code",
   "execution_count": 134,
   "metadata": {},
   "outputs": [
    {
     "name": "stdout",
     "output_type": "stream",
     "text": [
      "Model accuracy: 69.164%\n"
     ]
    },
    {
     "data": {
      "text/plain": [
       "0.6916439600363307"
      ]
     },
     "execution_count": 134,
     "metadata": {},
     "output_type": "execute_result"
    }
   ],
   "source": [
    "accuracy_m(gbt_predictions)"
   ]
  },
  {
   "cell_type": "code",
   "execution_count": 135,
   "metadata": {},
   "outputs": [
    {
     "name": "stdout",
     "output_type": "stream",
     "text": [
      "              precision    recall  f1-score   support\n",
      "\n",
      "         0.0       0.68      0.79      0.73      1159\n",
      "         1.0       0.72      0.58      0.64      1043\n",
      "\n",
      "    accuracy                           0.69      2202\n",
      "   macro avg       0.70      0.69      0.69      2202\n",
      "weighted avg       0.70      0.69      0.69      2202\n",
      "\n"
     ]
    },
    {
     "data": {
      "image/png": "[encoded data removed]",
      "text/plain": [
       "<Figure size 432x288 with 1 Axes>"
      ]
     },
     "metadata": {
      "needs_background": "light"
     },
     "output_type": "display_data"
    }
   ],
   "source": [
    "print_conf_matrix_and_report(gbt_predictions)"
   ]
  },
  {
   "cell_type": "code",
   "execution_count": 136,
   "metadata": {},
   "outputs": [],
   "source": [
    "evaluator = BinaryClassificationEvaluator()\n",
    "paramGrid = (ParamGridBuilder()\n",
    "             .addGrid(gbt.stepSize , [0.05, 0.1, 0.2])\n",
    "             .addGrid(gbt.maxDepth, [5])\n",
    "             .addGrid(gbt.maxBins, [32])\n",
    "             .addGrid(gbt.maxIter , [30])\n",
    "             .build())\n",
    "cv = CrossValidator(estimator=gbt,\n",
    "                    estimatorParamMaps=paramGrid,\n",
    "                    evaluator=evaluator, numFolds=5)\n",
    "gbt_cvModel = cv.fit(train)"
   ]
  },
  {
   "cell_type": "code",
   "execution_count": 137,
   "metadata": {},
   "outputs": [
    {
     "name": "stdout",
     "output_type": "stream",
     "text": [
      "Model accuracy: 69.119%\n"
     ]
    }
   ],
   "source": [
    "best_gbt_model = gbt_cvModel.bestModel\n",
    "cv_gbt_predictions = best_gbt_model.transform(test)\n",
    "acc = accuracy_m(cv_gbt_predictions)\n",
    "best_accuracies[type(best_gbt_model).__name__] = acc"
   ]
  },
  {
   "cell_type": "code",
   "execution_count": 138,
   "metadata": {},
   "outputs": [
    {
     "name": "stdout",
     "output_type": "stream",
     "text": [
      "The best GBTClassifier CV model max_depth param: 5, maxBins: 32, maxIter: 30, stepSize: 0.1\n"
     ]
    }
   ],
   "source": [
    "print('The best GBTClassifier CV model max_depth param: ' + str(best_gbt_model.getOrDefault('maxDepth'))\\\n",
    "       + \", maxBins: \" + str(best_gbt_model.getOrDefault('maxBins'))\n",
    "       + \", maxIter: \" + str(best_gbt_model.getOrDefault('maxIter'))\n",
    "       + \", stepSize: \" + str(best_gbt_model.getOrDefault('stepSize')))"
   ]
  },
  {
   "cell_type": "markdown",
   "metadata": {},
   "source": [
    "## Summary"
   ]
  },
  {
   "cell_type": "code",
   "execution_count": 139,
   "metadata": {},
   "outputs": [
    {
     "name": "stdout",
     "output_type": "stream",
     "text": [
      "Best accuracies:\n",
      " - LogisticRegressionModel: 67.620%\n",
      " - DecisionTreeClassificationModel: 67.530%\n",
      " - RandomForestClassificationModel: 68.847%\n",
      " - GBTClassificationModel: 69.119%\n"
     ]
    }
   ],
   "source": [
    "print_best_accuracies()"
   ]
  },
  {
   "cell_type": "markdown",
   "metadata": {},
   "source": [
    "## Sources\n",
    " - Data: https://www.kaggle.com/rouseguy/bankbalanced\n",
    " - https://www.analyticsvidhya.com/blog/2019/11/build-machine-learning-pipelines-pyspark/\n",
    " - https://www.guru99.com/pyspark-tutorial.html"
   ]
  }
 ],
 "metadata": {
  "kernelspec": {
   "display_name": "Python 3",
   "language": "python",
   "name": "python3"
  },
  "language_info": {
   "codemirror_mode": {
    "name": "ipython",
    "version": 3
   },
   "file_extension": ".py",
   "mimetype": "text/x-python",
   "name": "python",
   "nbconvert_exporter": "python",
   "pygments_lexer": "ipython3",
   "version": "3.7.1"
  }
 },
 "nbformat": 4,
 "nbformat_minor": 2
}
