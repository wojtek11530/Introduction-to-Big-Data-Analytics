{
 "cells": [
  {
   "cell_type": "code",
   "execution_count": 3,
   "metadata": {},
   "outputs": [],
   "source": [
    "import findspark\n",
    "findspark.init()\n",
    "\n",
    "from pyspark.sql import SparkSession\n",
    "import pyspark.sql.functions as func\n",
    "\n",
    "\n",
    "spark = SparkSession.builder.appName(\"nba_stat_analysis_app\").getOrCreate()"
   ]
  },
  {
   "cell_type": "markdown",
   "metadata": {},
   "source": [
    "## Reading data from .csv file\n",
    "\n",
    "It will be read as data frame."
   ]
  },
  {
   "cell_type": "code",
   "execution_count": 4,
   "metadata": {},
   "outputs": [],
   "source": [
    "nba_player_stats = spark.read.csv(path='nba_data.csv',\n",
    "                         sep=',',\n",
    "                         encoding='UTF-8',\n",
    "                         comment=None,\n",
    "                         header=True,\n",
    "                         inferSchema=True)"
   ]
  },
  {
   "cell_type": "code",
   "execution_count": 5,
   "metadata": {},
   "outputs": [
    {
     "name": "stdout",
     "output_type": "stream",
     "text": [
      "+--------------------+---+---+---+---+----+----+----+----+-----+---+---+-----+----+----+-----+-----+---+---+-----+---+---+----+---+---+---+---+---+----+----+\n",
      "|Player              |Pos|Age|Tm |G  |GS  |MP  |FG  |FGA |FG%  |3P |3PA|3P%  |2P  |2PA |2P%  |eFG% |FT |FTA|FT%  |ORB|DRB|TRB |AST|STL|BLK|TOV|PF |PTS |Year|\n",
      "+--------------------+---+---+---+---+----+----+----+----+-----+---+---+-----+----+----+-----+-----+---+---+-----+---+---+----+---+---+---+---+---+----+----+\n",
      "|Kareem Abdul-Jabbar*|C  |32 |LAL|82 |null|38.3|10.2|16.9|0.604|0.0|0.0|0.0  |10.2|16.9|0.604|0.604|4.4|5.8|0.765|2.3|8.5|10.8|4.5|1.0|3.4|3.6|2.6|24.8|1980|\n",
      "|Tom Abernethy       |PF |25 |GSW|67 |null|18.2|2.3 |4.7 |0.481|0.0|0.0|0.0  |2.3 |4.7 |0.483|0.481|0.8|1.2|0.683|0.9|1.9|2.9 |1.3|0.5|0.2|0.6|1.8|5.4 |1980|\n",
      "|Alvan Adams         |C  |25 |PHO|75 |null|28.9|6.2 |11.7|0.531|0.0|0.0|0.0  |6.2 |11.6|0.533|0.531|2.5|3.1|0.797|2.1|6.0|8.1 |4.3|1.4|0.7|2.9|3.2|14.9|1980|\n",
      "|Tiny Archibald*     |PG |31 |BOS|80 |80  |35.8|4.8 |9.9 |0.482|0.1|0.2|0.222|4.7 |9.7 |0.488|0.485|4.5|5.4|0.83 |0.7|1.7|2.5 |8.4|1.3|0.1|3.0|2.7|14.1|1980|\n",
      "|Dennis Awtrey       |C  |31 |CHI|26 |null|21.5|1.0 |2.3 |0.45 |0.0|0.0|null |1.0 |2.3 |0.45 |0.45 |1.2|1.9|0.64 |1.1|3.3|4.4 |1.5|0.5|0.6|1.0|2.5|3.3 |1980|\n",
      "+--------------------+---+---+---+---+----+----+----+----+-----+---+---+-----+----+----+-----+-----+---+---+-----+---+---+----+---+---+---+---+---+----+----+\n",
      "only showing top 5 rows\n",
      "\n"
     ]
    }
   ],
   "source": [
    "nba_player_stats.show(n=5, truncate=False)\n"
   ]
  },
  {
   "cell_type": "markdown",
   "metadata": {},
   "source": [
    "# Best scorers\n",
    "\n",
    "Taking players whose average number of points in all seasons is the greates."
   ]
  },
  {
   "cell_type": "code",
   "execution_count": 6,
   "metadata": {},
   "outputs": [
    {
     "name": "stdout",
     "output_type": "stream",
     "text": [
      "+------------------+------------------+\n",
      "|            Player|    Average points|\n",
      "+------------------+------------------+\n",
      "|   Michael Jordan*| 29.45333333333333|\n",
      "|      LeBron James|          27.15625|\n",
      "|      Kevin Durant| 26.88333333333333|\n",
      "|       Kobe Bryant|26.082352941176474|\n",
      "|    Allen Iverson*|26.064285714285713|\n",
      "|    George Gervin*|25.999999999999996|\n",
      "|      Karl Malone*|24.689473684210526|\n",
      "|      James Harden|24.220000000000002|\n",
      "|Dominique Wilkins*|24.019999999999996|\n",
      "|   Adrian Dantley*|23.983333333333334|\n",
      "+------------------+------------------+\n",
      "only showing top 10 rows\n",
      "\n"
     ]
    }
   ],
   "source": [
    "top_players_df = nba_player_stats.groupBy('Player') \\\n",
    "                                 .agg({'pts': 'mean'}) \\\n",
    "                                 .withColumnRenamed(\"avg(pts)\", \"Average points\") \\\n",
    "                                 .orderBy('avg(pts)', ascending=False).show(10)\n",
    "                                "
   ]
  },
  {
   "cell_type": "markdown",
   "metadata": {},
   "source": [
    "# Average number of 3 points attempts in seasons\n",
    "\n",
    "The parameter is calculated as average taken over average values of attempts for all players in season."
   ]
  },
  {
   "cell_type": "code",
   "execution_count": 7,
   "metadata": {},
   "outputs": [
    {
     "name": "stdout",
     "output_type": "stream",
     "text": [
      "+----+-------------------+\n",
      "|Year|Average 3PA in year|\n",
      "+----+-------------------+\n",
      "|1980| 0.2473867595818817|\n",
      "|1981|0.18519736842105294|\n",
      "|1982|0.20094936708860783|\n",
      "|1983|0.20189873417721552|\n",
      "|1984| 0.2112903225806454|\n",
      "|1985|0.27218749999999986|\n",
      "|1986| 0.2919999999999998|\n",
      "|1987| 0.4014925373134323|\n",
      "|1988|0.42951807228915617|\n",
      "|1989| 0.5396600566572229|\n",
      "|1990| 0.5564304461942252|\n",
      "|1991| 0.6201550387596891|\n",
      "|1992| 0.6647668393782381|\n",
      "|1993|  0.754615384615384|\n",
      "|1994| 0.8148883374689831|\n",
      "|1995| 1.2904176904176914|\n",
      "|1996| 1.3701631701631698|\n",
      "|1997| 1.4018140589569175|\n",
      "|1998|  1.061275626423691|\n",
      "|1999| 1.0475000000000003|\n",
      "|2000|  1.138496583143508|\n",
      "|2001| 1.1217687074829934|\n",
      "|2002|             1.2275|\n",
      "|2003| 1.2028037383177574|\n",
      "|2004| 1.2314479638009055|\n",
      "|2005| 1.3163793103448287|\n",
      "|2006| 1.3041484716157208|\n",
      "|2007|   1.41288209606987|\n",
      "|2008|  1.513968957871398|\n",
      "|2009| 1.5417977528089883|\n",
      "|2010| 1.5662895927601819|\n",
      "|2011| 1.5017699115044245|\n",
      "|2012| 1.5707112970711303|\n",
      "|2013|  1.663539445628999|\n",
      "|2014| 1.7634854771784219|\n",
      "|2015| 1.8827235772357722|\n",
      "|2016| 1.9638655462184886|\n",
      "|2017| 2.1845679012345687|\n",
      "|2018|  2.291296296296296|\n",
      "|2019| 2.5303773584905636|\n",
      "+----+-------------------+\n",
      "\n"
     ]
    }
   ],
   "source": [
    "three_pts_attempts_by_year = nba_player_stats.groupBy('Year') \\\n",
    "                                            .agg(func.mean('3PA')) \\\n",
    "                                            .withColumnRenamed(\"avg(3PA)\", \"Average 3PA in year\") \\\n",
    "                                            .orderBy('year')\n",
    "\n",
    "three_pts_attempts_by_year.show(three_pts_attempts_by_year.count())"
   ]
  },
  {
   "cell_type": "markdown",
   "metadata": {},
   "source": [
    "# Prediction\n",
    "\n",
    "Taking years and average values as a list."
   ]
  },
  {
   "cell_type": "code",
   "execution_count": 8,
   "metadata": {},
   "outputs": [],
   "source": [
    "three_pts_attempts_by_year.collect()\n",
    "\n",
    "years = [row['Year'] for row in three_pts_attempts_by_year.collect()]\n",
    "avg3PA = [row[1] for row in three_pts_attempts_by_year.collect()]"
   ]
  },
  {
   "cell_type": "code",
   "execution_count": 9,
   "metadata": {},
   "outputs": [],
   "source": [
    "import matplotlib.pyplot as plt"
   ]
  },
  {
   "cell_type": "code",
   "execution_count": 10,
   "metadata": {},
   "outputs": [
    {
     "data": {
      "text/plain": [
       "Text(0, 0.5, 'Avg 3PA')"
      ]
     },
     "execution_count": 10,
     "metadata": {},
     "output_type": "execute_result"
    },
    {
     "data": {
      "image/png": "[encoded data removed]",
      "text/plain": [
       "<Figure size 432x288 with 1 Axes>"
      ]
     },
     "metadata": {
      "needs_background": "light"
     },
     "output_type": "display_data"
    }
   ],
   "source": [
    "plt.scatter(years, avg3PA)\n",
    "plt.grid()\n",
    "plt.xlabel('Year')\n",
    "plt.ylabel('Avg 3PA')"
   ]
  },
  {
   "cell_type": "markdown",
   "metadata": {},
   "source": [
    "The plot shows increasing trend, we apply linear regression approach."
   ]
  },
  {
   "cell_type": "code",
   "execution_count": 11,
   "metadata": {},
   "outputs": [],
   "source": [
    "from sklearn.linear_model import LinearRegression\n",
    "from sklearn import metrics\n",
    "import numpy as np\n",
    "import pandas as pd"
   ]
  },
  {
   "cell_type": "code",
   "execution_count": 12,
   "metadata": {},
   "outputs": [
    {
     "data": {
      "text/plain": [
       "LinearRegression(copy_X=True, fit_intercept=True, n_jobs=None, normalize=False)"
      ]
     },
     "execution_count": 12,
     "metadata": {},
     "output_type": "execute_result"
    }
   ],
   "source": [
    "X_train = np.array(years).reshape(-1,1)\n",
    "Y_train = np.array(avg3PA).reshape(-1,1)\n",
    "\n",
    "regressor = LinearRegression()  \n",
    "regressor.fit(X_train, Y_train) #training the algorithm"
   ]
  },
  {
   "cell_type": "code",
   "execution_count": 13,
   "metadata": {},
   "outputs": [
    {
     "name": "stdout",
     "output_type": "stream",
     "text": [
      "Linear regressnion model y = a*x +b\n",
      "where\n",
      "a = 0.05230548809591704\n",
      "b = -103.47248776539708\n"
     ]
    }
   ],
   "source": [
    "print(\"Linear regressnion model y = a*x +b\")\n",
    "print(\"where\")\n",
    "print(\"a = \" + str(regressor.coef_[0][0]))\n",
    "print(\"b = \" + str(regressor.intercept_[0]))"
   ]
  },
  {
   "cell_type": "markdown",
   "metadata": {},
   "source": [
    "Finding $\\hat{y}$ values for training $x$. "
   ]
  },
  {
   "cell_type": "code",
   "execution_count": 14,
   "metadata": {},
   "outputs": [],
   "source": [
    "Y_pred = regressor.predict(X_train)"
   ]
  },
  {
   "cell_type": "markdown",
   "metadata": {},
   "source": [
    "Calculating measures:"
   ]
  },
  {
   "cell_type": "code",
   "execution_count": 15,
   "metadata": {},
   "outputs": [
    {
     "name": "stdout",
     "output_type": "stream",
     "text": [
      "Mean Absolute Error: 0.11338813935207251\n",
      "Mean Squared Error: 0.026193391426463486\n",
      "Root Mean Squared Error: 0.16184372532311372\n"
     ]
    }
   ],
   "source": [
    "print('Mean Absolute Error:', metrics.mean_absolute_error(Y_train, Y_pred))  \n",
    "print('Mean Squared Error:', metrics.mean_squared_error(Y_train, Y_pred))  \n",
    "print('Root Mean Squared Error:', np.sqrt(metrics.mean_squared_error(Y_train, Y_pred)))"
   ]
  },
  {
   "cell_type": "markdown",
   "metadata": {},
   "source": [
    "We predict values for the next 5 years."
   ]
  },
  {
   "cell_type": "code",
   "execution_count": 16,
   "metadata": {},
   "outputs": [],
   "source": [
    "number_of_years_to_predict = 5\n",
    "x_to_predict = np.arange(X_train[-1]+1, X_train[-1]+1 + number_of_years_to_predict).reshape(-1,1)\n",
    "y_predicted = regressor.predict(x_to_predict)"
   ]
  },
  {
   "cell_type": "code",
   "execution_count": 17,
   "metadata": {},
   "outputs": [
    {
     "data": {
      "image/png": "[encoded data removed]",
      "text/plain": [
       "<Figure size 432x288 with 1 Axes>"
      ]
     },
     "metadata": {
      "needs_background": "light"
     },
     "output_type": "display_data"
    }
   ],
   "source": [
    "\n",
    "plt.scatter(X_train, Y_train, label='Actual')\n",
    "plt.plot(X_train, Y_pred, color='red', linewidth=2, label='Fitted values')\n",
    "\n",
    "plt.plot(x_to_predict, y_predicted, 'g*', label='Future prediction')\n",
    "plt.grid()\n",
    "plt.xlabel('Year')\n",
    "plt.ylabel('Avg 3PA')\n",
    "plt.legend()\n",
    "plt.show()"
   ]
  },
  {
   "cell_type": "markdown",
   "metadata": {},
   "source": [
    "The plot shows how the linear regression line fit to the data."
   ]
  },
  {
   "cell_type": "code",
   "execution_count": 18,
   "metadata": {},
   "outputs": [
    {
     "data": {
      "text/html": [
       "<div>\n",
       "<style scoped>\n",
       "    .dataframe tbody tr th:only-of-type {\n",
       "        vertical-align: middle;\n",
       "    }\n",
       "\n",
       "    .dataframe tbody tr th {\n",
       "        vertical-align: top;\n",
       "    }\n",
       "\n",
       "    .dataframe thead th {\n",
       "        text-align: right;\n",
       "    }\n",
       "</style>\n",
       "<table border=\"1\" class=\"dataframe\">\n",
       "  <thead>\n",
       "    <tr style=\"text-align: right;\">\n",
       "      <th></th>\n",
       "      <th>Year</th>\n",
       "      <th>Predicted Avg 3PE</th>\n",
       "    </tr>\n",
       "  </thead>\n",
       "  <tbody>\n",
       "    <tr>\n",
       "      <th>0</th>\n",
       "      <td>2020</td>\n",
       "      <td>2.184598</td>\n",
       "    </tr>\n",
       "    <tr>\n",
       "      <th>1</th>\n",
       "      <td>2021</td>\n",
       "      <td>2.236904</td>\n",
       "    </tr>\n",
       "    <tr>\n",
       "      <th>2</th>\n",
       "      <td>2022</td>\n",
       "      <td>2.289209</td>\n",
       "    </tr>\n",
       "    <tr>\n",
       "      <th>3</th>\n",
       "      <td>2023</td>\n",
       "      <td>2.341515</td>\n",
       "    </tr>\n",
       "    <tr>\n",
       "      <th>4</th>\n",
       "      <td>2024</td>\n",
       "      <td>2.393820</td>\n",
       "    </tr>\n",
       "  </tbody>\n",
       "</table>\n",
       "</div>"
      ],
      "text/plain": [
       "   Year  Predicted Avg 3PE\n",
       "0  2020           2.184598\n",
       "1  2021           2.236904\n",
       "2  2022           2.289209\n",
       "3  2023           2.341515\n",
       "4  2024           2.393820"
      ]
     },
     "execution_count": 18,
     "metadata": {},
     "output_type": "execute_result"
    }
   ],
   "source": [
    "df_predicted = pd.DataFrame({'Year': x_to_predict.flatten(), 'Predicted Avg 3PE': y_predicted.flatten()})\n",
    "df_predicted"
   ]
  },
  {
   "cell_type": "markdown",
   "metadata": {},
   "source": [
    "We see that predicted values are lower then in the recent years. We construct model basing on precvious ten years."
   ]
  },
  {
   "cell_type": "code",
   "execution_count": 19,
   "metadata": {},
   "outputs": [
    {
     "data": {
      "image/png": "[encoded data removed]",
      "text/plain": [
       "<Figure size 432x288 with 1 Axes>"
      ]
     },
     "metadata": {
      "needs_background": "light"
     },
     "output_type": "display_data"
    }
   ],
   "source": [
    "X_train = np.array(years[-10:]).reshape(-1,1)\n",
    "Y_train = np.array(avg3PA[-10:]).reshape(-1,1)\n",
    "\n",
    "regressor_2 = LinearRegression()  \n",
    "regressor_2.fit(X_train, Y_train) \n",
    "\n",
    "Y_pred = regressor_2.predict(X_train)\n",
    "Y_future_predicted = regressor_2.predict(x_to_predict)\n",
    "\n",
    "plt.scatter(X_train, Y_train, label='Actual')\n",
    "plt.plot(X_train, Y_pred, color='red', linewidth=2, label='Fitted values')\n",
    "\n",
    "plt.plot(x_to_predict, Y_future_predicted, 'g*', label='Future prediction')\n",
    "plt.grid()\n",
    "plt.xlabel('Year')\n",
    "plt.ylabel('Avg 3PA')\n",
    "plt.legend()\n",
    "plt.show()"
   ]
  },
  {
   "cell_type": "code",
   "execution_count": 20,
   "metadata": {},
   "outputs": [
    {
     "data": {
      "text/html": [
       "<div>\n",
       "<style scoped>\n",
       "    .dataframe tbody tr th:only-of-type {\n",
       "        vertical-align: middle;\n",
       "    }\n",
       "\n",
       "    .dataframe tbody tr th {\n",
       "        vertical-align: top;\n",
       "    }\n",
       "\n",
       "    .dataframe thead th {\n",
       "        text-align: right;\n",
       "    }\n",
       "</style>\n",
       "<table border=\"1\" class=\"dataframe\">\n",
       "  <thead>\n",
       "    <tr style=\"text-align: right;\">\n",
       "      <th></th>\n",
       "      <th>Year</th>\n",
       "      <th>Predicted Avg 3PE</th>\n",
       "    </tr>\n",
       "  </thead>\n",
       "  <tbody>\n",
       "    <tr>\n",
       "      <th>0</th>\n",
       "      <td>2020</td>\n",
       "      <td>2.501628</td>\n",
       "    </tr>\n",
       "    <tr>\n",
       "      <th>1</th>\n",
       "      <td>2021</td>\n",
       "      <td>2.612495</td>\n",
       "    </tr>\n",
       "    <tr>\n",
       "      <th>2</th>\n",
       "      <td>2022</td>\n",
       "      <td>2.723361</td>\n",
       "    </tr>\n",
       "    <tr>\n",
       "      <th>3</th>\n",
       "      <td>2023</td>\n",
       "      <td>2.834228</td>\n",
       "    </tr>\n",
       "    <tr>\n",
       "      <th>4</th>\n",
       "      <td>2024</td>\n",
       "      <td>2.945094</td>\n",
       "    </tr>\n",
       "  </tbody>\n",
       "</table>\n",
       "</div>"
      ],
      "text/plain": [
       "   Year  Predicted Avg 3PE\n",
       "0  2020           2.501628\n",
       "1  2021           2.612495\n",
       "2  2022           2.723361\n",
       "3  2023           2.834228\n",
       "4  2024           2.945094"
      ]
     },
     "execution_count": 20,
     "metadata": {},
     "output_type": "execute_result"
    }
   ],
   "source": [
    "df_predicted_2 = pd.DataFrame({'Year': x_to_predict.flatten(), 'Predicted Avg 3PE': Y_future_predicted.flatten()})\n",
    "df_predicted_2"
   ]
  },
  {
   "cell_type": "markdown",
   "metadata": {},
   "source": [
    "In that case the predicted values are greater than whne all years was taken into account. That prediction seems to be more accurate."
   ]
  }
 ],
 "metadata": {
  "kernelspec": {
   "display_name": "Python 3",
   "language": "python",
   "name": "python3"
  },
  "language_info": {
   "codemirror_mode": {
    "name": "ipython",
    "version": 3
   },
   "file_extension": ".py",
   "mimetype": "text/x-python",
   "name": "python",
   "nbconvert_exporter": "python",
   "pygments_lexer": "ipython3",
   "version": "3.7.1"
  }
 },
 "nbformat": 4,
 "nbformat_minor": 2
}
